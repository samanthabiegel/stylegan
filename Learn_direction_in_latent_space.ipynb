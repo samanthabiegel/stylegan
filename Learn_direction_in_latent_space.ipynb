{
 "cells": [
  {
   "cell_type": "code",
   "execution_count": 1,
   "metadata": {},
   "outputs": [],
   "source": [
    "import os\n",
    "import pickle\n",
    "import config\n",
    "import dnnlib\n",
    "import gzip\n",
    "import json\n",
    "import numpy as np\n",
    "from tqdm import tqdm_notebook\n",
    "import warnings\n",
    "import matplotlib.pylab as plt\n",
    "%matplotlib inline\n",
    "warnings.filterwarnings(\"ignore\")"
   ]
  },
  {
   "cell_type": "markdown",
   "metadata": {},
   "source": [
    "# Loading data"
   ]
  },
  {
   "cell_type": "code",
   "execution_count": 2,
   "metadata": {},
   "outputs": [],
   "source": [
    "# Thanks for Microsoft Cognitive Services API (free trial) for labeling of generated images\n",
    "# https://azure.microsoft.com/en-us/services/cognitive-services/face/\n",
    "\n",
    "# A pretty simple logic was used for generating images:\n",
    "\n",
    "# qlatents = np.random.normal(size=(1, 512))\n",
    "# dlatents = Gs_network.components.mapping.run(qlatents, None, minibatch_size=1, randomize_noise=False, structure='fixed') # untruncated by default, I guess\n",
    "# images = Gs_network.components.synthesis.run(dlatents, minibatch_size=1, randomize_noise=False, output_transform=dict(func=tflib.convert_images_to_uint8, nchw_to_nhwc=True), structure='fixed')\n",
    "\n",
    "# After that generated image was sent to Micriosft API and response was stored as is"
   ]
  },
  {
   "cell_type": "code",
   "execution_count": 3,
   "metadata": {
    "scrolled": true
   },
   "outputs": [
    {
     "data": {
      "text/plain": [
       "{'faceId': 'b6807d9a-0ab5-4595-9037-c69c656c5c38',\n",
       " 'faceRectangle': {'top': 322, 'left': 223, 'width': 584, 'height': 584},\n",
       " 'faceLandmarks': {'pupilLeft': {'x': 386.0, 'y': 480.7},\n",
       "  'pupilRight': {'x': 641.7, 'y': 481.1},\n",
       "  'noseTip': {'x': 518.0, 'y': 648.1},\n",
       "  'mouthLeft': {'x': 388.9, 'y': 748.0},\n",
       "  'mouthRight': {'x': 645.1, 'y': 741.8},\n",
       "  'eyebrowLeftOuter': {'x': 304.3, 'y': 441.0},\n",
       "  'eyebrowLeftInner': {'x': 466.8, 'y': 442.9},\n",
       "  'eyeLeftOuter': {'x': 345.4, 'y': 485.3},\n",
       "  'eyeLeftTop': {'x': 385.2, 'y': 464.8},\n",
       "  'eyeLeftBottom': {'x': 386.5, 'y': 497.1},\n",
       "  'eyeLeftInner': {'x': 424.6, 'y': 487.6},\n",
       "  'eyebrowRightInner': {'x': 572.8, 'y': 448.0},\n",
       "  'eyebrowRightOuter': {'x': 738.0, 'y': 445.0},\n",
       "  'eyeRightInner': {'x': 603.8, 'y': 485.0},\n",
       "  'eyeRightTop': {'x': 646.0, 'y': 466.2},\n",
       "  'eyeRightBottom': {'x': 644.9, 'y': 496.9},\n",
       "  'eyeRightOuter': {'x': 686.7, 'y': 485.3},\n",
       "  'noseRootLeft': {'x': 475.1, 'y': 493.3},\n",
       "  'noseRootRight': {'x': 547.5, 'y': 493.9},\n",
       "  'noseLeftAlarTop': {'x': 456.7, 'y': 590.5},\n",
       "  'noseRightAlarTop': {'x': 564.5, 'y': 587.1},\n",
       "  'noseLeftAlarOutTip': {'x': 425.6, 'y': 643.8},\n",
       "  'noseRightAlarOutTip': {'x': 595.7, 'y': 638.2},\n",
       "  'upperLipTop': {'x': 524.0, 'y': 737.2},\n",
       "  'upperLipBottom': {'x': 523.8, 'y': 756.8},\n",
       "  'underLipTop': {'x': 522.6, 'y': 770.5},\n",
       "  'underLipBottom': {'x': 525.5, 'y': 800.8}},\n",
       " 'faceAttributes': {'smile': 0.999,\n",
       "  'headPose': {'pitch': 0.0, 'roll': -0.4, 'yaw': 3.1},\n",
       "  'gender': 'male',\n",
       "  'age': 50.0,\n",
       "  'facialHair': {'moustache': 0.1, 'beard': 0.1, 'sideburns': 0.1},\n",
       "  'glasses': 'NoGlasses',\n",
       "  'emotion': {'anger': 0.0,\n",
       "   'contempt': 0.0,\n",
       "   'disgust': 0.0,\n",
       "   'fear': 0.0,\n",
       "   'happiness': 0.999,\n",
       "   'neutral': 0.001,\n",
       "   'sadness': 0.0,\n",
       "   'surprise': 0.0},\n",
       "  'blur': {'blurLevel': 'low', 'value': 0.06},\n",
       "  'exposure': {'exposureLevel': 'goodExposure', 'value': 0.71},\n",
       "  'noise': {'noiseLevel': 'low', 'value': 0.09},\n",
       "  'makeup': {'eyeMakeup': False, 'lipMakeup': False},\n",
       "  'accessories': [],\n",
       "  'occlusion': {'foreheadOccluded': False,\n",
       "   'eyeOccluded': False,\n",
       "   'mouthOccluded': False},\n",
       "  'hair': {'bald': 0.11,\n",
       "   'invisible': False,\n",
       "   'hairColor': [{'color': 'brown', 'confidence': 1.0},\n",
       "    {'color': 'gray', 'confidence': 0.65},\n",
       "    {'color': 'blond', 'confidence': 0.36},\n",
       "    {'color': 'black', 'confidence': 0.23},\n",
       "    {'color': 'red', 'confidence': 0.2},\n",
       "    {'color': 'other', 'confidence': 0.04}]}}}"
      ]
     },
     "execution_count": 3,
     "metadata": {},
     "output_type": "execute_result"
    }
   ],
   "source": [
    "LATENT_TRAINING_DATA = 'https://drive.google.com/uc?id=1xMM3AFq0r014IIhBLiMCjKJJvbhLUQ9t'\n",
    "    \n",
    "with dnnlib.util.open_url(LATENT_TRAINING_DATA, cache_dir=config.cache_dir) as f:\n",
    "    qlatent_data, dlatent_data, labels_data = pickle.load(gzip.GzipFile(fileobj=f))\n",
    "\n",
    "    \n",
    "labels_data[0]  # wow. many fields. amaze"
   ]
  },
  {
   "cell_type": "code",
   "execution_count": 4,
   "metadata": {},
   "outputs": [
    {
     "data": {
      "text/plain": [
       "20307"
      ]
     },
     "execution_count": 4,
     "metadata": {},
     "output_type": "execute_result"
    }
   ],
   "source": [
    "# Let's play with age and gender\n",
    "# you can train your own model now\n",
    "\n",
    "X_data = dlatent_data.reshape((-1, 18*512))\n",
    "y_age_data = np.array([x['faceAttributes']['age'] for x in labels_data])\n",
    "y_gender_data = np.array([x['faceAttributes']['gender'] == 'male' for x in labels_data]) # sry girls :(\n",
    "\n",
    "assert(len(X_data) == len(y_age_data) == len(y_gender_data))\n",
    "len(X_data)"
   ]
  },
  {
   "cell_type": "markdown",
   "metadata": {},
   "source": [
    "# EDA"
   ]
  },
  {
   "cell_type": "code",
   "execution_count": 5,
   "metadata": {},
   "outputs": [
    {
     "data": {
      "image/png": "[encoded data removed]",
      "text/plain": [
       "<Figure size 432x288 with 1 Axes>"
      ]
     },
     "metadata": {
      "needs_background": "light"
     },
     "output_type": "display_data"
    }
   ],
   "source": [
    "plt.hist(y_age_data[y_gender_data], bins=30, color='red', alpha=0.5, label='male')\n",
    "plt.hist(y_age_data[~y_gender_data], bins=30, color='blue', alpha=0.5, label='female')\n",
    "plt.legend()\n",
    "plt.title('Distribution of age within gender')\n",
    "plt.xlabel('Age')\n",
    "plt.ylabel('Population')\n",
    "plt.show()\n",
    "\n",
    "# Seems that Dataset / Generator / Detector model may be biased"
   ]
  },
  {
   "cell_type": "markdown",
   "metadata": {},
   "source": [
    "# Training a linear model for obtaining gender direction in latent space"
   ]
  },
  {
   "cell_type": "code",
   "execution_count": 6,
   "metadata": {},
   "outputs": [],
   "source": [
    "from sklearn.linear_model import LogisticRegression, SGDClassifier\n",
    "from sklearn.model_selection import StratifiedKFold, cross_val_score, train_test_split\n",
    "from sklearn.metrics import accuracy_score"
   ]
  },
  {
   "cell_type": "code",
   "execution_count": 7,
   "metadata": {},
   "outputs": [
    {
     "name": "stdout",
     "output_type": "stream",
     "text": [
      "CPU times: user 1min 30s, sys: 16.7 s, total: 1min 47s\n",
      "Wall time: 1min 52s\n"
     ]
    }
   ],
   "source": [
    "%%time\n",
    "# So let's find the gender direction in the latent space\n",
    "\n",
    "clf = LogisticRegression(class_weight='balanced').fit(X_data, y_gender_data)\n",
    "gender_direction = clf.coef_.reshape((18, 512))\n",
    "\n",
    "# So yep, that's all. We made it.\n",
    "# But let's do some research first. We'll pick that up later on."
   ]
  },
  {
   "cell_type": "markdown",
   "metadata": {},
   "source": [
    "### Evaluating model performance"
   ]
  },
  {
   "cell_type": "code",
   "execution_count": 8,
   "metadata": {},
   "outputs": [
    {
     "ename": "AttributeError",
     "evalue": "'SGDClassifier' object has no attribute 'feature_importances_'",
     "output_type": "error",
     "traceback": [
      "\u001b[0;31m---------------------------------------------------------------------------\u001b[0m",
      "\u001b[0;31mAttributeError\u001b[0m                            Traceback (most recent call last)",
      "\u001b[0;32m<ipython-input-8-c2b378ebc290>\u001b[0m in \u001b[0;36m<module>\u001b[0;34m\u001b[0m\n\u001b[1;32m      3\u001b[0m \u001b[0mscores\u001b[0m \u001b[0;34m=\u001b[0m \u001b[0mcross_val_score\u001b[0m\u001b[0;34m(\u001b[0m\u001b[0mclf\u001b[0m\u001b[0;34m,\u001b[0m \u001b[0mX_data\u001b[0m\u001b[0;34m,\u001b[0m \u001b[0my_gender_data\u001b[0m\u001b[0;34m,\u001b[0m \u001b[0mscoring\u001b[0m\u001b[0;34m=\u001b[0m\u001b[0;34m'accuracy'\u001b[0m\u001b[0;34m,\u001b[0m \u001b[0mcv\u001b[0m\u001b[0;34m=\u001b[0m\u001b[0;36m5\u001b[0m\u001b[0;34m)\u001b[0m\u001b[0;34m\u001b[0m\u001b[0;34m\u001b[0m\u001b[0m\n\u001b[1;32m      4\u001b[0m \u001b[0mclf\u001b[0m\u001b[0;34m.\u001b[0m\u001b[0mfit\u001b[0m\u001b[0;34m(\u001b[0m\u001b[0mX_data\u001b[0m\u001b[0;34m,\u001b[0m \u001b[0my_gender_data\u001b[0m\u001b[0;34m)\u001b[0m\u001b[0;34m\u001b[0m\u001b[0;34m\u001b[0m\u001b[0m\n\u001b[0;32m----> 5\u001b[0;31m \u001b[0mprint\u001b[0m\u001b[0;34m(\u001b[0m\u001b[0mclf\u001b[0m\u001b[0;34m.\u001b[0m\u001b[0mfeature_importances_\u001b[0m\u001b[0;34m)\u001b[0m\u001b[0;34m\u001b[0m\u001b[0;34m\u001b[0m\u001b[0m\n\u001b[0m\u001b[1;32m      6\u001b[0m \u001b[0;34m\u001b[0m\u001b[0m\n\u001b[1;32m      7\u001b[0m \u001b[0mprint\u001b[0m\u001b[0;34m(\u001b[0m\u001b[0mscores\u001b[0m\u001b[0;34m)\u001b[0m\u001b[0;34m\u001b[0m\u001b[0;34m\u001b[0m\u001b[0m\n",
      "\u001b[0;31mAttributeError\u001b[0m: 'SGDClassifier' object has no attribute 'feature_importances_'"
     ]
    }
   ],
   "source": [
    "# %%time\n",
    "clf = SGDClassifier('log', class_weight='balanced') # SGB model for performance sake\n",
    "scores = cross_val_score(clf, X_data, y_gender_data, scoring='accuracy', cv=5)\n",
    "clf.fit(X_data, y_gender_data)\n",
    "print(clf.feature_importances_)\n",
    "\n",
    "print(scores)\n",
    "print('Mean: ', np.mean(scores))\n",
    "\n",
    "# Accuracy ? Meh. But gender distribution is almost balanced ... at least for simplicity sake"
   ]
  },
  {
   "cell_type": "code",
   "execution_count": null,
   "metadata": {},
   "outputs": [],
   "source": [
    "print(clf.feature_importances_)"
   ]
  },
  {
   "cell_type": "markdown",
   "metadata": {},
   "source": [
    "#### Dependency of gender detection errors on age "
   ]
  },
  {
   "cell_type": "code",
   "execution_count": null,
   "metadata": {},
   "outputs": [],
   "source": [
    "bins, bin_edges = np.histogram(y_age_data, bins=30)\n",
    "errors,_ = np.histogram(y_age_data[clf.predict(X_data) != y_gender_data], bin_edges)\n",
    "\n",
    "plt.plot(errors / bins)\n",
    "plt.title('Dependency of gender detection errors on age')\n",
    "plt.ylabel('Gender detection error rate')\n",
    "plt.xlabel('Age')\n",
    "plt.show()\n",
    "\n",
    "# Seems that the most diffictul for model is to distinguish babies. For me as well to be honest.\n",
    "# Or model which we used for creating \"ground truth\" produces random guesses\n",
    "# I bet that both are true"
   ]
  },
  {
   "cell_type": "markdown",
   "metadata": {},
   "source": [
    "#### Dependency of accuracy on training data size"
   ]
  },
  {
   "cell_type": "code",
   "execution_count": null,
   "metadata": {
    "scrolled": true
   },
   "outputs": [],
   "source": [
    "%%time\n",
    "\n",
    "nb_folds = 5\n",
    "splits = 20\n",
    "scores = np.zeros((splits, nb_folds))\n",
    "dataset_size = list()\n",
    "\n",
    "for fold_id, (train_idx, test_idx) in enumerate(StratifiedKFold(nb_folds, True, 42).split(X_data, y_gender_data)):\n",
    "    X_train, X_test = X_data[train_idx][:1000], X_data[test_idx]\n",
    "    y_train, y_test = y_gender_data[train_idx][:1000], y_gender_data[test_idx]\n",
    "    \n",
    "    for split_id in range(splits):\n",
    "        nb_samples = int((len(X_train)/splits) * (split_id+1))\n",
    "        dataset_size.append(nb_samples)\n",
    "        clf = SGDClassifier('log', class_weight='balanced').fit(X_train[:nb_samples], y_train[:nb_samples])\n",
    "        scores[split_id][fold_id] = accuracy_score(y_test, clf.predict(X_test))\n",
    "        \n",
    "\n",
    "plt.plot(dataset_size[:splits], scores.mean(axis=1))\n",
    "plt.title('Dependency of accuracy on training data size')\n",
    "plt.xlabel('Dataset size')\n",
    "plt.ylabel('Accuracy')\n",
    "plt.show()\n",
    "\n",
    "# Seems that 100 labeled examples is already enough to reach 80% accuracy (for gender).\n",
    "# That's an interesting insight."
   ]
  },
  {
   "cell_type": "markdown",
   "metadata": {},
   "source": [
    "#### Latent layers importance"
   ]
  },
  {
   "cell_type": "code",
   "execution_count": null,
   "metadata": {},
   "outputs": [],
   "source": [
    "# Let's try to find out which latent layer is most useful for predicting gender\n",
    "\n",
    "scores = list()\n",
    "for layer in tqdm_notebook(range(18)):\n",
    "    clf = SGDClassifier('log', class_weight='balanced')\n",
    "    scores.append(cross_val_score(clf, X_data.reshape((-1, 18, 512))[:,layer], y_gender_data, scoring='accuracy', cv=5).mean())\n",
    "    \n",
    "plt.plot(np.arange(0,18), scores)\n",
    "plt.xlabel('Layer')\n",
    "plt.ylabel('Accuracy')\n",
    "plt.show()\n",
    "\n",
    "# Huh? Seems that every latent layer contains some information about gender.\n",
    "# I didn't expect that to be honest."
   ]
  },
  {
   "cell_type": "markdown",
   "metadata": {},
   "source": [
    "# Visualization of gender transformation"
   ]
  },
  {
   "cell_type": "code",
   "execution_count": null,
   "metadata": {},
   "outputs": [],
   "source": [
    "%%time\n",
    "# Do you remember gender_direction ? \n",
    "# Anyway let's train it one more time\n",
    "\n",
    "clf = LogisticRegression(class_weight='balanced')\n",
    "clf.fit(X_data.reshape((-1, 18*512)), y_gender_data)\n",
    "gender_dircetion = clf.coef_.reshape((18, 512))"
   ]
  },
  {
   "cell_type": "code",
   "execution_count": null,
   "metadata": {},
   "outputs": [],
   "source": [
    "import PIL.Image\n",
    "import dnnlib.tflib as tflib\n",
    "from encoder.generator_model import Generator\n",
    "\n",
    "URL_FFHQ = 'https://drive.google.com/uc?id=1MEGjdvVpUsu1jB4zrXZN7Y4kBBOzizDQ'\n",
    "\n",
    "tflib.init_tf()\n",
    "with dnnlib.util.open_url(URL_FFHQ, cache_dir=config.cache_dir) as f:\n",
    "    generator_network, discriminator_network, Gs_network = pickle.load(f)\n",
    "\n",
    "generator = Generator(Gs_network, batch_size=1, randomize_noise=False)\n",
    "\n",
    "def generate_image(latent_vector):\n",
    "    latent_vector = latent_vector.reshape((1, 18, 512))\n",
    "    generator.set_dlatents(latent_vector)\n",
    "    img_array = generator.generate_images()[0]\n",
    "    img = PIL.Image.fromarray(img_array, 'RGB')\n",
    "    return img.resize((256, 256))\n",
    "\n",
    "def move_and_show(latent_vector, direction, coeffs):\n",
    "    fig,ax = plt.subplots(1, len(coeffs), figsize=(15, 10), dpi=80)\n",
    "    for i, coeff in enumerate(coeffs):\n",
    "        new_latent_vector = latent_vector.copy()\n",
    "        new_latent_vector[:8] = (latent_vector + coeff*direction)[:8]\n",
    "        ax[i].imshow(generate_image(new_latent_vector))\n",
    "        ax[i].set_title('Coeff: %0.1f' % coeff)\n",
    "    [x.axis('off') for x in ax]\n",
    "    plt.show()"
   ]
  },
  {
   "cell_type": "code",
   "execution_count": null,
   "metadata": {
    "scrolled": true
   },
   "outputs": [],
   "source": [
    "# For generating these face untruncated sampling was used\n",
    "\n",
    "for i in range(10):\n",
    "    move_and_show(X_data.reshape((-1, 18, 512))[i], gender_dircetion, [-5, -1.5, 0, 1.5, 5])"
   ]
  },
  {
   "cell_type": "code",
   "execution_count": null,
   "metadata": {},
   "outputs": [],
   "source": [
    "donald_trump = np.load('ffhq_dataset/latent_representations/donald_trump_01.npy')\n",
    "move_and_show(donald_trump, gender_dircetion, [-5, -1.5, 0, 1.5, 5])"
   ]
  },
  {
   "cell_type": "code",
   "execution_count": null,
   "metadata": {},
   "outputs": [],
   "source": [
    "#\n",
    "# Better approach for learning better representations is coming...some regularization magic is happening\n",
    "#\n",
    "# donald_trump = np.load('dark/deep/fantasy')\n",
    "# move_and_show(donald_trump, gender_dircetion, [-5, -1.5, 0, 1.5, 5])\n",
    "\n",
    "# - here is some images -"
   ]
  },
  {
   "cell_type": "markdown",
   "metadata": {},
   "source": [
    "# Try to use some non-linear model"
   ]
  },
  {
   "cell_type": "raw",
   "metadata": {},
   "source": [
    "Maybe we can do better if we train some non-linear model ?\n",
    "But how we can move our latent vetors in non-linear space ? \n",
    "So let's see"
   ]
  },
  {
   "cell_type": "code",
   "execution_count": null,
   "metadata": {},
   "outputs": [],
   "source": [
    "import keras\n",
    "from keras.models import Sequential, Model\n",
    "from keras.layers import Dense, Dropout, Embedding, Flatten, Activation\n",
    "from keras.optimizers import SGD"
   ]
  },
  {
   "cell_type": "code",
   "execution_count": null,
   "metadata": {
    "scrolled": true
   },
   "outputs": [],
   "source": [
    "model = Sequential()\n",
    "model.add(Dense(32, activation='relu'))\n",
    "model.add(Dropout(0.3))\n",
    "model.add(Dense(1))\n",
    "model.add(Activation('sigmoid'))\n",
    "model.compile('adam', 'binary_crossentropy', metrics=['accuracy'])\n",
    "\n",
    "model.fit(X_data.reshape((-1, 18*512)), y_gender_data, validation_split=0.2, epochs=5)\n",
    "model = Model(model.input, model.layers[-2].output)\n",
    "\n",
    "# works bit better, but in general accuracy is quite similar to the linear model"
   ]
  },
  {
   "cell_type": "code",
   "execution_count": null,
   "metadata": {},
   "outputs": [],
   "source": [
    "# some dark magic is happening here\n",
    "\n",
    "embedding_model = Sequential()\n",
    "embedding_model.add(Embedding(10, 18*512, input_length=1)) # it's actually just a variable\n",
    "embedding_model.add(Flatten())\n",
    "\n",
    "nonliner_gender_model = Model(embedding_model.input, model(embedding_model.output))\n",
    "nonliner_gender_model.layers[-1].trainable = False # fix non-linear model and train only embeddings\n",
    "nonliner_gender_model.compile('sgd', 'mse')\n",
    "\n",
    "nonliner_gender_model.layers[1].set_weights([X_data[:10].reshape((-1, 18*512))])\n",
    "y_data_real = nonliner_gender_model.predict(np.arange(10))\n",
    "y_data_real"
   ]
  },
  {
   "cell_type": "code",
   "execution_count": null,
   "metadata": {
    "scrolled": true
   },
   "outputs": [],
   "source": [
    "# and here\n",
    "\n",
    "nonliner_gender_model.fit(np.arange(10), np.full((10, 1), 20), verbose=0, epochs=500)\n",
    "nonliner_gender_model.predict(np.arange(10))"
   ]
  },
  {
   "cell_type": "code",
   "execution_count": null,
   "metadata": {},
   "outputs": [],
   "source": [
    "for v in embedding_model.layers[0].get_weights()[0]:\n",
    "    plt.imshow(generate_image(v))\n",
    "    plt.show()"
   ]
  },
  {
   "cell_type": "code",
   "execution_count": null,
   "metadata": {
    "scrolled": true
   },
   "outputs": [],
   "source": [
    "# reset latents and try it over but now in another direction \n",
    "nonliner_gender_model.layers[1].set_weights([X_data[:10].reshape((-1, 18*512))])\n",
    "\n",
    "nonliner_gender_model.fit(np.arange(10), np.full((10, 1), -20), verbose=0, epochs=500)\n",
    "\n",
    "for v in embedding_model.layers[0].get_weights()[0]:\n",
    "    plt.imshow(generate_image(v))\n",
    "    plt.show()"
   ]
  },
  {
   "cell_type": "code",
   "execution_count": null,
   "metadata": {},
   "outputs": [],
   "source": [
    "# Did you expect that it's gonna work ? :)\n",
    "\n",
    "# In general:\n",
    "# 1) Instead of linear model we trained a non-linear model (two layers neural network) for predicting age\n",
    "# 2) For a given latent vector we want to find a direction in non-linear space to become more male\\female\n",
    "# 3) Direction ? Sounds like we can use gradient descent...\n",
    "# 4) So that's actually what we do, step by step we optimize latent vector to become more male\\female"
   ]
  }
 ],
 "metadata": {
  "kernelspec": {
   "display_name": "Python 3",
   "language": "python",
   "name": "python3"
  },
  "language_info": {
   "codemirror_mode": {
    "name": "ipython",
    "version": 3
   },
   "file_extension": ".py",
   "mimetype": "text/x-python",
   "name": "python",
   "nbconvert_exporter": "python",
   "pygments_lexer": "ipython3",
   "version": "3.7.1"
  }
 },
 "nbformat": 4,
 "nbformat_minor": 2
}
